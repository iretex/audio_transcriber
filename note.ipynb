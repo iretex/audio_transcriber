{
 "cells": [
  {
   "cell_type": "code",
   "execution_count": 5,
   "metadata": {},
   "outputs": [
    {
     "name": "stdout",
     "output_type": "stream",
     "text": [
      "Name: python-dotenvNote: you may need to restart the kernel to use updated packages.\n",
      "\n",
      "Version: 1.0.0\n",
      "Summary: Read key-value pairs from a .env file and set them as environment variables\n",
      "Home-page: https://github.com/theskumar/python-dotenv\n",
      "Author: Saurabh Kumar\n",
      "Author-email: me+github@saurabh-kumar.com\n",
      "License: BSD-3-Clause\n",
      "Location: c:\\Users\\iolawuyi\\AppData\\Local\\Programs\\Python\\Python311\\Lib\\site-packages\n",
      "Requires: \n",
      "Required-by: \n"
     ]
    }
   ],
   "source": [
    "pip show python-dotenv"
   ]
  },
  {
   "cell_type": "code",
   "execution_count": 4,
   "metadata": {},
   "outputs": [
    {
     "name": "stdout",
     "output_type": "stream",
     "text": [
      "10\n"
     ]
    }
   ],
   "source": [
    "x = 4\n",
    "\n",
    "print(x % 7 + 6)"
   ]
  },
  {
   "cell_type": "code",
   "execution_count": 1,
   "metadata": {},
   "outputs": [
    {
     "name": "stderr",
     "output_type": "stream",
     "text": [
      "c:\\Users\\iolawuyi\\OneDrive - LinamarCorporation\\Documents\\Learn\\Datacamp\\DL\\env\\Lib\\site-packages\\numpy\\_distributor_init.py:30: UserWarning: loaded more than 1 DLL from .libs:\n",
      "c:\\Users\\iolawuyi\\OneDrive - LinamarCorporation\\Documents\\Learn\\Datacamp\\DL\\env\\Lib\\site-packages\\numpy\\.libs\\libopenblas64__v0.3.23-246-g3d31191b-gcc_10_3_0.dll\n",
      "c:\\Users\\iolawuyi\\OneDrive - LinamarCorporation\\Documents\\Learn\\Datacamp\\DL\\env\\Lib\\site-packages\\numpy\\.libs\\libopenblas64__v0.3.23-gcc_10_3_0.dll\n",
      "  warnings.warn(\"loaded more than 1 DLL from .libs:\"\n"
     ]
    }
   ],
   "source": [
    "import os\n",
    "from dotenv import load_dotenv\n",
    "import openai\n",
    "from datetime import datetime\n",
    "import requests"
   ]
  },
  {
   "cell_type": "code",
   "execution_count": 3,
   "metadata": {},
   "outputs": [],
   "source": [
    "load_dotenv()\n",
    "\n",
    "openai.api_key = os.getenv(\"OPENAI_API_KEY\")"
   ]
  },
  {
   "cell_type": "code",
   "execution_count": 4,
   "metadata": {},
   "outputs": [
    {
     "data": {
      "text/plain": [
       "<OpenAIObject at 0x1fe3ba6d550> JSON: {\n",
       "  \"text\": \"\\u266a \\u266a You saw what you had made, said it was good \\u266a \\u266a The crown of all creation made to look like heaven should \\u266a \\u266a We were the perfect picture in your frame \\u266a \\u266a Then it's fear and shame to turn our colors into green \\u266a \\u266a Oh-oh-oh-oh oh-oh-oh-oh-oh. Oh-oh-oh-oh-oh, oh-oh-oh-Oh. Satan controls people through his lies. Deception, strongholds, begins with lies. Now his lies have an intense grip in your mind because they are sown as seeds in your thoughts. You take ownership of Satan's thoughts when you voice them as yours. The Bible says in Matthew chapter 16 verse 21 to 23 an interesting account of Peter and Jesus. Jesus had just mentioned to his disciples the things that he must suffer and the Bible says that Peter calls him aside and rebuked him because of the things that he said. And Jesus turned to Peter and said, Satan, get thee behind me. So Jesus was talking to Peter but he was addressing Satan because you can voice Satan's thoughts thinking it's yours. And how many people today have done Satan's bidding thinking it was God's leading. The way to live wisely is to know the will of God. Paul tells us in Ephesians chapter 5 verse 17 that we must understand the will of God to live wisely. The knowledge of God's will is an empowerment to the believer. The will of God renews your mind because the mind is either at war with God or it is being renewed. There's no middle ground. Have a blessed day friends. No, I am your redemption.\"\n",
       "}"
      ]
     },
     "execution_count": 4,
     "metadata": {},
     "output_type": "execute_result"
    }
   ],
   "source": [
    "file_path = r\"data/344242293-44100-2-0acd31e89aa9.m4a\"\n",
    "\n",
    "# Note: you need to be using OpenAI Python v0.27.0 for the code below to work\n",
    "\n",
    "openai.api_key = os.getenv(\"OPENAI_API_KEY\")\n",
    "\n",
    "audio_file= open(file_path, \"rb\")\n",
    "transcript = openai.Audio.transcribe(\"whisper-1\", audio_file)\n",
    "transcript"
   ]
  },
  {
   "cell_type": "code",
   "execution_count": 3,
   "metadata": {},
   "outputs": [],
   "source": [
    "def download_audio(url, output_file):\n",
    "    response = requests.get(url)\n",
    "    with open(output_file, 'wb') as f:\n",
    "        f.write(response.content)\n",
    "        \n",
    "def transcribe_audio(audio_file):\n",
    "    with open(audio_file, \"rb\") as audio_file_obj:\n",
    "        transcript = openai.Audio.transcribe(\"whisper-1\", audio_file_obj)\n",
    "    # audio_file = open(audio_file, 'rb')\n",
    "    # transcript = openai.Audio.transcribe('whisper-1', audio_file)\n",
    "\n",
    "    return transcript[\"text\"]\n",
    "\n",
    "def save_transcribed_text_to_markdown(transcribed_text):\n",
    "    # Generate the output file name with current timestamp\n",
    "    timestamp = datetime.now().strftime(\"%Y%m%d_%H%M%S\")\n",
    "    output_file = f\"data/transcription_{timestamp}.md\"\n",
    "\n",
    "    # Format the transcribed text as markdown\n",
    "    formatted_text = f\"# Transcription\\n\\n{transcribed_text}\"\n",
    "\n",
    "    # Save the formatted text to a markdown file\n",
    "    with open(output_file, \"w\") as file:\n",
    "        file.write(formatted_text)\n",
    "\n",
    "    return output_file"
   ]
  },
  {
   "cell_type": "code",
   "execution_count": 4,
   "metadata": {},
   "outputs": [
    {
     "data": {
      "text/plain": [
       "\"I don't walk by myself when I go through the valley of shadows I know that you're here with me, I'm not out of reach I'm everything but afraid when I'm walking into the battle I've been in places just like this, what you did before, you'll win again You will turn this into something good Show up right on time for me, do everything you said you would It's interesting to me because as I look at this text, I'm reminded that the first temptation was that of bread I mean, how does bread become the reason for someone to leave and abandon the will of God? And Satan had been anticipating this moment right from Genesis chapter 3 When he heard God say that the seed of this woman will bruise your head He was waiting for the moment that seed will show up on the scene And his very first encounter with the seed Interestingly, the first thing Satan throws out is bread Bread is not evil, food is for enjoyment But in a fallen world, we are prone to love things in the wrong way We are prone to be gripped and ruled by things that are not necessarily seen but can be because of the value that we give them over God A fallen world comes with faulty priorities Jesus' first temptation was to eat The very first temptation in Genesis was to eat Ezekiel chapter 16 verse 49 The Bible says, behold, this was the iniquity of thy sister Sodom Pride, fullness of bread and abundance of idleness was in her and in her daughters Neither did she strengthen the hand of the poor and the needy Esau ate his way out of the plan, ate his way out of his blessings Jesus says in Matthew chapter 6 When you give, when you pray, when you fast But some people today have somehow made one out of these three the center of their Christianity So they pray and they do not fast, they give but they do not pray And Jesus says that, hey, do not make one the center of your Christianity Because all three work out something in you Satan throws bread first It wasn't a test of bread, it was a test of desire Satan was simply asking Jesus Do you want the purpose and the will of God more than your body needs bread right now? Are you desperate for the will of God more than your body right now? Is desperate for bread, is your passion for God greater than your desire for bread? This is what I know God is able to know if the prayer of your mouth is the prayer of your heart He's able to strip your mountain of words down to the very intent of your heart Have a blessed friends Amen\""
      ]
     },
     "execution_count": 4,
     "metadata": {},
     "output_type": "execute_result"
    }
   ],
   "source": [
    "#  file_path = r\"C:\\Users\\iolawuyi\\Downloads\\342434940-44100-2-b85502be390aa.m4a\"\n",
    "\n",
    "output_file = \"data/temp_file.m4a\"\n",
    "url = \"https://d3ctxlq1ktw2nl.cloudfront.net/staging/2023-7-10/342565259-44100-2-056907f71c5ed.m4a\"\n",
    "url = \"https://d3ctxlq1ktw2nl.cloudfront.net/staging/2023-7-14/343012217-44100-2-b76a12a9cd2c6.m4a\"\n",
    "url = \"https://d3ctxlq1ktw2nl.cloudfront.net/staging/2023-7-16/343300736-44100-2-e43d7542575cc.m4a\"\n",
    "\n",
    "# download file\n",
    "download_audio(url, output_file)\n",
    "\n",
    " # Transcribe the audio file\n",
    "transcribed_text = transcribe_audio(output_file)\n",
    "\n",
    "# Save the transcribed text to a markdown file\n",
    "output_file = save_transcribed_text_to_markdown(transcribed_text)\n",
    "\n",
    "transcribed_text"
   ]
  }
 ],
 "metadata": {
  "kernelspec": {
   "display_name": "env",
   "language": "python",
   "name": "python3"
  },
  "language_info": {
   "codemirror_mode": {
    "name": "ipython",
    "version": 3
   },
   "file_extension": ".py",
   "mimetype": "text/x-python",
   "name": "python",
   "nbconvert_exporter": "python",
   "pygments_lexer": "ipython3",
   "version": "3.11.4"
  },
  "orig_nbformat": 4
 },
 "nbformat": 4,
 "nbformat_minor": 2
}
